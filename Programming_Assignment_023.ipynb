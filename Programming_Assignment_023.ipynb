{
 "cells": [
  {
   "cell_type": "markdown",
   "id": "e60ef734",
   "metadata": {},
   "source": [
    "#### 1. Create a function that takes a number as an argument and returns True or False depending on whether the number is symmetrical or not. A number is symmetrical when it is the same as its reverse.\n",
    "Examples\n",
    "\n",
    "`is_symmetrical(7227) ➞ True`\n",
    "\n",
    "`is_symmetrical(12567) ➞ False`\n",
    "\n",
    "`is_symmetrical(44444444) ➞ True`\n",
    "\n",
    "`is_symmetrical(9939) ➞ False`\n",
    "\n",
    "`is_symmetrical(1112111) ➞ True`"
   ]
  },
  {
   "cell_type": "markdown",
   "id": "995caee4",
   "metadata": {},
   "source": [
    "**Ans:**"
   ]
  },
  {
   "cell_type": "code",
   "execution_count": 1,
   "id": "4c42124d",
   "metadata": {},
   "outputs": [],
   "source": [
    "def is_symmetrical(in_num):\n",
    "    if str(in_num) == str(in_num)[::-1]:\n",
    "        print(f'{in_num} ➞ {True}')\n",
    "    else:\n",
    "        print(f'{in_num} ➞ {False}')"
   ]
  },
  {
   "cell_type": "code",
   "execution_count": 2,
   "id": "691fa407",
   "metadata": {},
   "outputs": [
    {
     "name": "stdout",
     "output_type": "stream",
     "text": [
      "7227 ➞ True\n",
      "12567 ➞ False\n",
      "44444444 ➞ True\n",
      "9939 ➞ False\n",
      "1112111 ➞ True\n"
     ]
    }
   ],
   "source": [
    "is_symmetrical(7227)\n",
    "is_symmetrical(12567)\n",
    "is_symmetrical(44444444) \n",
    "is_symmetrical(9939)\n",
    "is_symmetrical(1112111)"
   ]
  },
  {
   "cell_type": "markdown",
   "id": "f1ee2c51",
   "metadata": {},
   "source": [
    "#### 2. Given a string of numbers separated by a comma and space, return the product of the numbers.\n",
    "Examples\n",
    "\n",
    "`multiply_nums(\"2, 3\") ➞ 6`\n",
    "\n",
    "`multiply_nums(\"1, 2, 3, 4\") ➞ 24`\n",
    "\n",
    "`multiply_nums(\"54, 75, 453, 0\") ➞ 0`\n",
    "\n",
    "`multiply_nums(\"10, -2\") ➞ -20`\n"
   ]
  },
  {
   "cell_type": "markdown",
   "id": "bea58ea5",
   "metadata": {},
   "source": [
    "**Ans:**"
   ]
  },
  {
   "cell_type": "code",
   "execution_count": 3,
   "id": "aeeb333a",
   "metadata": {},
   "outputs": [],
   "source": [
    "def multiply_nums(in_num):\n",
    "    product = 1\n",
    "    for i in in_num.split(','):\n",
    "        product = product * int(i)\n",
    "    return product"
   ]
  },
  {
   "cell_type": "code",
   "execution_count": 4,
   "id": "0e158df8",
   "metadata": {},
   "outputs": [
    {
     "name": "stdout",
     "output_type": "stream",
     "text": [
      "6\n",
      "24\n",
      "0\n",
      "-20\n"
     ]
    }
   ],
   "source": [
    "print(multiply_nums('2, 3'))\n",
    "print(multiply_nums('1, 2, 3, 4'))\n",
    "print(multiply_nums('54, 75, 453, 0'))\n",
    "print(multiply_nums('10, -2'))"
   ]
  },
  {
   "cell_type": "markdown",
   "id": "fc5cc6c1",
   "metadata": {},
   "source": [
    "#### 3. Create a function that squares every digit of a number.\n",
    "Examples\n",
    "\n",
    "`square_digits(9119) ➞ 811181`\n",
    "\n",
    "`square_digits(2483) ➞ 416649`\n",
    "\n",
    "`square_digits(3212) ➞ 9414`\n",
    "\n",
    "**Notes**\n",
    "\n",
    "The function receives an integer and must return an integer.\n"
   ]
  },
  {
   "cell_type": "markdown",
   "id": "1c8ea7f9",
   "metadata": {},
   "source": [
    "**Ans:**"
   ]
  },
  {
   "cell_type": "code",
   "execution_count": 5,
   "id": "57888f22",
   "metadata": {},
   "outputs": [],
   "source": [
    "def square_digits(in_num):\n",
    "    out_put = \"\"\n",
    "    for i in str(in_num):\n",
    "        out_put += str(int(i)**2)\n",
    "    return int(out_put)"
   ]
  },
  {
   "cell_type": "code",
   "execution_count": 6,
   "id": "60e7a578",
   "metadata": {},
   "outputs": [
    {
     "name": "stdout",
     "output_type": "stream",
     "text": [
      "811181\n",
      "416649\n",
      "9414\n"
     ]
    }
   ],
   "source": [
    "print(square_digits(9119))\n",
    "print(square_digits(2483))\n",
    "print(square_digits(3212))"
   ]
  },
  {
   "cell_type": "markdown",
   "id": "5d6d3ae1",
   "metadata": {},
   "source": [
    "#### 4. Create a function that sorts a list and removes all duplicate items from it.\n",
    "Examples\n",
    "\n",
    "`setify([1, 3, 3, 5, 5]) ➞ [1, 3, 5]`\n",
    "\n",
    "`setify([4, 4, 4, 4]) ➞ [4]`\n",
    "\n",
    "`setify([5, 7, 8, 9, 10, 15]) ➞ [5, 7, 8, 9, 10, 15]`\n",
    "\n",
    "`setify([3, 3, 3, 2, 1]) ➞ [1, 2, 3]`"
   ]
  },
  {
   "cell_type": "markdown",
   "id": "7f5e9963",
   "metadata": {},
   "source": [
    "**Ans:**"
   ]
  },
  {
   "cell_type": "code",
   "execution_count": 7,
   "id": "d086fb8e",
   "metadata": {},
   "outputs": [],
   "source": [
    "def setify(lst):\n",
    "    return list(set(lst))"
   ]
  },
  {
   "cell_type": "code",
   "execution_count": 8,
   "id": "408fc52a",
   "metadata": {},
   "outputs": [
    {
     "name": "stdout",
     "output_type": "stream",
     "text": [
      "[1, 3, 5]\n",
      "[4]\n",
      "[5, 7, 8, 9, 10, 15]\n",
      "[1, 2, 3]\n"
     ]
    }
   ],
   "source": [
    "print(setify([1, 3, 3, 5, 5]))\n",
    "print(setify([4, 4, 4, 4]))\n",
    "print(setify([5, 7, 8, 9, 10, 15]))\n",
    "print(setify([3, 3, 3, 2, 1]))"
   ]
  },
  {
   "cell_type": "markdown",
   "id": "ad79608a",
   "metadata": {},
   "source": [
    "#### 5. Create a function that returns the mean of all digits.\n",
    "Examples\n",
    "\n",
    "`mean(42) ➞ 3`\n",
    "\n",
    "`mean(12345) ➞ 3`\n",
    "\n",
    "`mean(666) ➞ 6`\n",
    "\n",
    "**Notes**\n",
    "\n",
    "•\tThe mean of all digits is the sum of digits / how many digits there are (e.g. mean of digits in 512 is (5+1+2)/3(number of digits) = 8/3=2).\n",
    "\n",
    "•\tThe mean will always be an integer.\n"
   ]
  },
  {
   "cell_type": "markdown",
   "id": "0e6aebc1",
   "metadata": {},
   "source": [
    "**Ans:**"
   ]
  },
  {
   "cell_type": "code",
   "execution_count": 9,
   "id": "6e719544",
   "metadata": {},
   "outputs": [],
   "source": [
    "def mean(n): \n",
    "    N = len(str(n)) \n",
    "    sum = 0\n",
    "    \n",
    "    for digit in str(n):\n",
    "        sum += int(digit)\n",
    "    print(f'Mean of {n}  ➞ {int(sum/N)}')"
   ]
  },
  {
   "cell_type": "code",
   "execution_count": 10,
   "id": "f9aacdb4",
   "metadata": {},
   "outputs": [
    {
     "name": "stdout",
     "output_type": "stream",
     "text": [
      "Mean of 42  ➞ 3\n",
      "Mean of 12345  ➞ 3\n",
      "Mean of 666  ➞ 6\n"
     ]
    }
   ],
   "source": [
    "mean(42)\n",
    "mean(12345)\n",
    "mean(666)"
   ]
  },
  {
   "cell_type": "code",
   "execution_count": null,
   "id": "6cd279e8",
   "metadata": {},
   "outputs": [],
   "source": []
  }
 ],
 "metadata": {
  "kernelspec": {
   "display_name": "Python 3 (ipykernel)",
   "language": "python",
   "name": "python3"
  },
  "language_info": {
   "codemirror_mode": {
    "name": "ipython",
    "version": 3
   },
   "file_extension": ".py",
   "mimetype": "text/x-python",
   "name": "python",
   "nbconvert_exporter": "python",
   "pygments_lexer": "ipython3",
   "version": "3.9.7"
  }
 },
 "nbformat": 4,
 "nbformat_minor": 5
}
