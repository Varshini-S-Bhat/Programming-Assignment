{
 "cells": [
  {
   "cell_type": "markdown",
   "id": "84c33c3a",
   "metadata": {},
   "source": [
    "#### 1. Create a function that takes a string and returns a string in which each character is repeated once.\n",
    "Examples\n",
    "\n",
    "double_char(\"String\") ➞ \"SSttrriinngg\"\n",
    "\n",
    "double_char(\"Hello World!\") ➞ \"HHeelllloo  WWoorrlldd!!\"\n",
    "\n",
    "double_char(\"1234!_ \") ➞ \"11223344!!__  \""
   ]
  },
  {
   "cell_type": "markdown",
   "id": "60937212",
   "metadata": {},
   "source": [
    "**Ans:**"
   ]
  },
  {
   "cell_type": "code",
   "execution_count": 1,
   "id": "8b4da883",
   "metadata": {},
   "outputs": [],
   "source": [
    "def double_char(in_string):\n",
    "    out_string = ''\n",
    "    for i in in_string:\n",
    "        out_string += i*2\n",
    "    return out_string"
   ]
  },
  {
   "cell_type": "code",
   "execution_count": 2,
   "id": "a3817ae4",
   "metadata": {},
   "outputs": [
    {
     "name": "stdout",
     "output_type": "stream",
     "text": [
      "SSttrriinngg\n",
      "HHeelllloo  WWoorrlldd!!\n",
      "11223344!!__  \n"
     ]
    }
   ],
   "source": [
    "print(double_char(\"String\"))\n",
    "print(double_char(\"Hello World!\"))\n",
    "print(double_char(\"1234!_ \"))"
   ]
  },
  {
   "cell_type": "markdown",
   "id": "f723df97",
   "metadata": {},
   "source": [
    "#### 2. Create a function that reverses a boolean value and returns the string \"boolean expected\" if another variable type is given.\n",
    "Examples\n",
    "\n",
    "reverse(True) ➞ False\n",
    "\n",
    "reverse(False) ➞ True\n",
    "\n",
    "reverse(0) ➞ \"boolean expected\"\n",
    "\n",
    "reverse(None) ➞ \"boolean expected\"\n"
   ]
  },
  {
   "cell_type": "markdown",
   "id": "ee08b2e9",
   "metadata": {},
   "source": [
    "**Ans:**"
   ]
  },
  {
   "cell_type": "code",
   "execution_count": 3,
   "id": "3fd0d4da",
   "metadata": {},
   "outputs": [],
   "source": [
    "def reverse(in_bool):\n",
    "    if type(in_bool) == bool:\n",
    "        return not in_bool\n",
    "    else:\n",
    "        return \"Boolean Expected\""
   ]
  },
  {
   "cell_type": "code",
   "execution_count": 4,
   "id": "f84925bd",
   "metadata": {},
   "outputs": [
    {
     "name": "stdout",
     "output_type": "stream",
     "text": [
      "False\n",
      "True\n",
      "Boolean Expected\n",
      "Boolean Expected\n"
     ]
    }
   ],
   "source": [
    "print(reverse(True))\n",
    "print(reverse(False))\n",
    "print(reverse(0))\n",
    "print(reverse(None))"
   ]
  },
  {
   "cell_type": "markdown",
   "id": "856d670c",
   "metadata": {},
   "source": [
    "#### 3. Create a function that returns the thickness (in meters) of a piece of paper after folding it n number of times. The paper starts off with a thickness of 0.5mm.\n",
    "Examples\n",
    "\n",
    "num_layers(1) ➞ \"0.001m\"\n",
    "\n",
    "Paper folded once is 1mm (equal to 0.001m)\n",
    "\n",
    "num_layers(4) ➞ \"0.008m\"\n",
    "\n",
    "Paper folded 4 times is 8mm (equal to 0.008m)\n",
    "\n",
    "num_layers(21) ➞ \"1048.576m\"\n",
    "\n",
    "Paper folded 21 times is 1048576mm (equal to 1048.576m)\n"
   ]
  },
  {
   "cell_type": "markdown",
   "id": "49cd6dae",
   "metadata": {},
   "source": [
    "**Ans:**"
   ]
  },
  {
   "cell_type": "code",
   "execution_count": 5,
   "id": "ee01eaa5",
   "metadata": {},
   "outputs": [],
   "source": [
    "def num_layers(in_num):\n",
    "    out_num = 0.5\n",
    "    for i in range(in_num):\n",
    "        out_num *= 2\n",
    "    print(f'Output ➞ {out_num/1000}m')"
   ]
  },
  {
   "cell_type": "code",
   "execution_count": 6,
   "id": "c60a2d0b",
   "metadata": {},
   "outputs": [
    {
     "name": "stdout",
     "output_type": "stream",
     "text": [
      "Output ➞ 0.001m\n",
      "Output ➞ 0.008m\n",
      "Output ➞ 1048.576m\n"
     ]
    }
   ],
   "source": [
    "num_layers(1)\n",
    "num_layers(4)\n",
    "num_layers(21)"
   ]
  },
  {
   "cell_type": "markdown",
   "id": "d34fcf40",
   "metadata": {},
   "source": [
    "#### 4 .Create a function that takes a single string as argument and returns an ordered list containing the indices of all capital letters in the string.\n",
    "Examples\n",
    "\n",
    "index_of_caps(\"eDaBiT\") ➞ [1, 3, 5]\n",
    "\n",
    "index_of_caps(\"eQuINoX\") ➞ [1, 3, 4, 6]\n",
    "\n",
    "index_of_caps(\"determine\") ➞ []\n",
    "\n",
    "index_of_caps(\"STRIKE\") ➞ [0, 1, 2, 3, 4, 5]\n",
    "\n",
    "index_of_caps(\"sUn\") ➞ [1]\n"
   ]
  },
  {
   "cell_type": "markdown",
   "id": "7bed6dba",
   "metadata": {},
   "source": [
    "**Ans:**"
   ]
  },
  {
   "cell_type": "code",
   "execution_count": 7,
   "id": "80625a06",
   "metadata": {},
   "outputs": [],
   "source": [
    "def index_of_caps(word):\n",
    "    indices = []\n",
    "    for i in range(len(word)):\n",
    "        if word[i].isupper():\n",
    "             indices.append(i)\n",
    "    return indices"
   ]
  },
  {
   "cell_type": "code",
   "execution_count": 8,
   "id": "039737bb",
   "metadata": {},
   "outputs": [
    {
     "name": "stdout",
     "output_type": "stream",
     "text": [
      "[0, 3]\n",
      "[1, 3, 5]\n",
      "[1, 3, 4, 6]\n",
      "[]\n",
      "[0, 1, 2, 3, 4, 5]\n",
      "[1]\n"
     ]
    }
   ],
   "source": [
    "print(index_of_caps('BhaNu'))\n",
    "print(index_of_caps('eDaBiT'))\n",
    "print(index_of_caps('eQuINoX')) \n",
    "print(index_of_caps('determine'))\n",
    "print(index_of_caps('STRIKE'))\n",
    "print(index_of_caps('sUn'))"
   ]
  },
  {
   "cell_type": "markdown",
   "id": "ceb2d66e",
   "metadata": {},
   "source": [
    "#### 5. Using list comprehensions, create a function that finds all even numbers from 1 to the given number.\n",
    "\n",
    "Examples\n",
    "\n",
    "find_even_nums(8) ➞ [2, 4, 6, 8]\n",
    "\n",
    "find_even_nums(4) ➞ [2, 4]\n",
    "\n",
    "find_even_nums(2) ➞ [2]\n"
   ]
  },
  {
   "cell_type": "markdown",
   "id": "0ebf7938",
   "metadata": {},
   "source": [
    "**Ans:**"
   ]
  },
  {
   "cell_type": "code",
   "execution_count": 9,
   "id": "2ac96e20",
   "metadata": {},
   "outputs": [],
   "source": [
    "def find_even_nums(n):\n",
    "    even =[x for x in range(2,n+1) if x % 2 == 0]\n",
    "    return even"
   ]
  },
  {
   "cell_type": "code",
   "execution_count": 10,
   "id": "35362e77",
   "metadata": {},
   "outputs": [
    {
     "name": "stdout",
     "output_type": "stream",
     "text": [
      "[2, 4, 6, 8]\n",
      "[2, 4]\n",
      "[2]\n"
     ]
    }
   ],
   "source": [
    "print(find_even_nums(8))\n",
    "print(find_even_nums(4))\n",
    "print(find_even_nums(2))"
   ]
  },
  {
   "cell_type": "code",
   "execution_count": null,
   "id": "3daf9d82",
   "metadata": {},
   "outputs": [],
   "source": []
  }
 ],
 "metadata": {
  "kernelspec": {
   "display_name": "Python 3 (ipykernel)",
   "language": "python",
   "name": "python3"
  },
  "language_info": {
   "codemirror_mode": {
    "name": "ipython",
    "version": 3
   },
   "file_extension": ".py",
   "mimetype": "text/x-python",
   "name": "python",
   "nbconvert_exporter": "python",
   "pygments_lexer": "ipython3",
   "version": "3.9.7"
  }
 },
 "nbformat": 4,
 "nbformat_minor": 5
}
