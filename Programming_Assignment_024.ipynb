{
 "cells": [
  {
   "cell_type": "markdown",
   "id": "18d67d21",
   "metadata": {},
   "source": [
    "#### 1. Create a function that takes an integer and returns a list from 1 to the given number, where:\n",
    "\n",
    "1.\tIf the number can be divided evenly by 4, amplify it by 10 (i.e. return 10 times the number).\n",
    "\n",
    "2.\tIf the number cannot be divided evenly by 4, simply return the number.\n",
    "\n",
    "Examples\n",
    "\n",
    "`amplify(4) ➞ [1, 2, 3, 40]`\n",
    "\n",
    "`amplify(3) ➞ [1, 2, 3]`\n",
    "\n",
    "`amplify(25) ➞ [1, 2, 3, 40, 5, 6, 7, 80, 9, 10, 11, 120, 13, 14, 15, 160, 17, 18, 19, 200, 21, 22, 23, 240, 25]`\n",
    "\n",
    "**Notes**\n",
    "\n",
    "•\tThe given integer will always be equal to or greater than 1.\n",
    "\n",
    "•\tInclude the number (see example above).\n",
    "\n",
    "•\tTo perform this problem with its intended purpose, try doing it with list comprehensions. If that's too difficult, just solve the challenge any way you can.\n"
   ]
  },
  {
   "cell_type": "markdown",
   "id": "3d108340",
   "metadata": {},
   "source": [
    "**Ans:**"
   ]
  },
  {
   "cell_type": "code",
   "execution_count": 1,
   "id": "94ac4f7f",
   "metadata": {},
   "outputs": [],
   "source": [
    "def amplify(a):\n",
    "    out_put = []\n",
    "    for i in range(1,a+1):\n",
    "        if i%4 == 0:\n",
    "            out_put.append(i*10)\n",
    "        else:\n",
    "            out_put.append(i)\n",
    "    print(f'amplify({a})  ➞ {out_put}')"
   ]
  },
  {
   "cell_type": "code",
   "execution_count": 2,
   "id": "c18139f5",
   "metadata": {},
   "outputs": [
    {
     "name": "stdout",
     "output_type": "stream",
     "text": [
      "amplify(4)  ➞ [1, 2, 3, 40]\n",
      "amplify(3)  ➞ [1, 2, 3]\n",
      "amplify(25)  ➞ [1, 2, 3, 40, 5, 6, 7, 80, 9, 10, 11, 120, 13, 14, 15, 160, 17, 18, 19, 200, 21, 22, 23, 240, 25]\n"
     ]
    }
   ],
   "source": [
    "amplify(4)\n",
    "amplify(3)\n",
    "amplify(25)"
   ]
  },
  {
   "cell_type": "markdown",
   "id": "a971ecd4",
   "metadata": {},
   "source": [
    "#### 2. Create a function that takes a list of numbers and return the number that's unique.\n",
    "Examples\n",
    "\n",
    "`unique([3, 3, 3, 7, 3, 3]) ➞ 7`\n",
    "\n",
    "`unique([0, 0, 0.77, 0, 0]) ➞ 0.77`\n",
    "\n",
    "`unique([0, 1, 1, 1, 1, 1, 1, 1]) ➞ 0`\n",
    "\n",
    "**Notes**\n",
    "\n",
    "Test cases will always have exactly one unique number while all others are the same.\n"
   ]
  },
  {
   "cell_type": "markdown",
   "id": "cff1bc67",
   "metadata": {},
   "source": [
    "**Ans:**"
   ]
  },
  {
   "cell_type": "code",
   "execution_count": 3,
   "id": "2b92f60f",
   "metadata": {},
   "outputs": [],
   "source": [
    "def unique(in_list):\n",
    "    out_num = ''\n",
    "    for ele in set(in_list):\n",
    "        if in_list.count(ele) == 1:\n",
    "            out_num = ele\n",
    "    print(f'{in_list} ➞ {out_num}')"
   ]
  },
  {
   "cell_type": "code",
   "execution_count": 4,
   "id": "97abec91",
   "metadata": {},
   "outputs": [
    {
     "name": "stdout",
     "output_type": "stream",
     "text": [
      "[3, 3, 3, 7, 3, 3] ➞ 7\n",
      "[0, 0, 0.77, 0, 0] ➞ 0.77\n",
      "[0, 1, 1, 1, 1, 1, 1, 1] ➞ 0\n"
     ]
    }
   ],
   "source": [
    "unique([3, 3, 3, 7, 3, 3])\n",
    "unique([0, 0, 0.77, 0, 0])\n",
    "unique([0, 1, 1, 1, 1, 1, 1, 1])"
   ]
  },
  {
   "cell_type": "markdown",
   "id": "89a85984",
   "metadata": {},
   "source": [
    "#### 3. Your task is to create a Circle constructor that creates a circle with a radius provided by an argument. The circles constructed must have two getters getArea() (PIr^2) and getPerimeter() (2PI*r) which give both respective areas and perimeter (circumference).\n",
    "\n",
    "For help with this class, I have provided you with a Rectangle constructor which you can use as a base example.\\\n",
    "\n",
    "Examples\n",
    "\n",
    "`circy = Circle(11)`\n",
    "\n",
    "`circy.getArea()`\n",
    "\n",
    "Should return 380.132711084365\n",
    "\n",
    "`circy = Circle(4.44)`\n",
    "\n",
    "`circy.getPerimeter()`\n",
    "\n",
    "Should return 27.897342763877365\n",
    "\n",
    "**Notes**\n",
    "\n",
    "Round results up to the nearest integer.\n"
   ]
  },
  {
   "cell_type": "markdown",
   "id": "9f165b43",
   "metadata": {},
   "source": [
    "**Ans:**"
   ]
  },
  {
   "cell_type": "code",
   "execution_count": 5,
   "id": "417a1304",
   "metadata": {},
   "outputs": [],
   "source": [
    "import math\n",
    "\n",
    "class Circle:\n",
    "    def __init__(self, radius):\n",
    "        self.radius = radius\n",
    "    def getArea(self):\n",
    "        print(f'Radius ➞ {round(math.pi*self.radius*self.radius)}')\n",
    "    def getPerimeter(self):\n",
    "        print(f'Perimeter ➞ {round(2*math.pi*self.radius)}')"
   ]
  },
  {
   "cell_type": "code",
   "execution_count": 6,
   "id": "870d3b3d",
   "metadata": {},
   "outputs": [
    {
     "name": "stdout",
     "output_type": "stream",
     "text": [
      "Radius ➞ 380\n",
      "Perimeter ➞ 28\n"
     ]
    }
   ],
   "source": [
    "circy = Circle(11)\n",
    "circy.getArea()\n",
    "\n",
    "circy = Circle(4.44)\n",
    "circy.getPerimeter()"
   ]
  },
  {
   "cell_type": "markdown",
   "id": "10556cc8",
   "metadata": {},
   "source": [
    "#### 4. Create a function that takes a list of strings and return a list, sorted from shortest to longest.\n",
    "\n",
    "Examples\n",
    "\n",
    "`sort_by_length([\"Google\", \"Apple\", \"Microsoft\"])\n",
    "➞ [\"Apple\", \"Google\", \"Microsoft\"]`\n",
    "\n",
    "`sort_by_length([\"Leonardo\", \"Michelangelo\", \"Raphael\", \"Donatello\"])\n",
    "➞ [\"Raphael\", \"Leonardo\", \"Donatello\", \"Michelangelo\"]`\n",
    "\n",
    "`sort_by_length([\"Turing\", \"Einstein\", \"Jung\"])\n",
    "➞ [\"Jung\", \"Turing\", \"Einstein\"]`\n",
    "\n",
    "**Notes**\n",
    "\n",
    "All test cases contain lists with strings of different lengths, so you won't have to deal with multiple strings of the same length.\n"
   ]
  },
  {
   "cell_type": "markdown",
   "id": "15c6dcf7",
   "metadata": {},
   "source": [
    "**Ans:**"
   ]
  },
  {
   "cell_type": "code",
   "execution_count": 7,
   "id": "2958f888",
   "metadata": {},
   "outputs": [],
   "source": [
    "def sort_by_length(in_list):\n",
    "    print(sorted(in_list,key =len))"
   ]
  },
  {
   "cell_type": "code",
   "execution_count": 8,
   "id": "79caccf3",
   "metadata": {},
   "outputs": [
    {
     "name": "stdout",
     "output_type": "stream",
     "text": [
      "['Apple', 'Google', 'Microsoft']\n",
      "['Raphael', 'Leonardo', 'Donatello', 'Michelangelo']\n",
      "['Jung', 'Turing', 'Einstein']\n"
     ]
    }
   ],
   "source": [
    "sort_by_length([\"Google\", \"Apple\", \"Microsoft\"])\n",
    "sort_by_length([\"Leonardo\", \"Michelangelo\", \"Raphael\", \"Donatello\"])\n",
    "sort_by_length([\"Turing\", \"Einstein\", \"Jung\"])"
   ]
  },
  {
   "cell_type": "markdown",
   "id": "9d2cb554",
   "metadata": {},
   "source": [
    "#### 5. Create a function that validates whether three given integers form a Pythagorean triplet. The sum of the squares of the two smallest integers must equal the square of the largest number to be validated.\n",
    "\n",
    "\n",
    "Examples\n",
    "\n",
    "`is_triplet(3, 4, 5) ➞ True\n",
    " 3² + 4² = 25\n",
    " 5² = 25`\n",
    "\n",
    "`is_triplet(13, 5, 12) ➞ True\n",
    " 5² + 12² = 169\n",
    " 13² = 169`\n",
    "\n",
    "`is_triplet(1, 2, 3) ➞ False\n",
    " 1² + 2² = 5\n",
    " 3² = 9`\n",
    " \n",
    "**Notes**\n",
    "\n",
    "Numbers may not be given in a sorted order."
   ]
  },
  {
   "cell_type": "markdown",
   "id": "01c13b70",
   "metadata": {},
   "source": [
    "**Ans:**"
   ]
  },
  {
   "cell_type": "code",
   "execution_count": 9,
   "id": "6ee14a49",
   "metadata": {},
   "outputs": [],
   "source": [
    "def is_triplet(a,b,c):\n",
    "    lst = [a, b, c]\n",
    "    lst.sort()\n",
    "    if lst[0] ** 2 + lst[1] ** 2 == lst[2] ** 2:\n",
    "        return True\n",
    "    else:\n",
    "        return False"
   ]
  },
  {
   "cell_type": "code",
   "execution_count": 10,
   "id": "b66e33d9",
   "metadata": {},
   "outputs": [
    {
     "name": "stdout",
     "output_type": "stream",
     "text": [
      "True\n",
      "True\n",
      "False\n"
     ]
    }
   ],
   "source": [
    "print(is_triplet(3, 4, 5))\n",
    "print(is_triplet(13, 5, 12))\n",
    "print(is_triplet(1, 2, 3))"
   ]
  },
  {
   "cell_type": "code",
   "execution_count": null,
   "id": "961c1b38",
   "metadata": {},
   "outputs": [],
   "source": []
  }
 ],
 "metadata": {
  "kernelspec": {
   "display_name": "Python 3 (ipykernel)",
   "language": "python",
   "name": "python3"
  },
  "language_info": {
   "codemirror_mode": {
    "name": "ipython",
    "version": 3
   },
   "file_extension": ".py",
   "mimetype": "text/x-python",
   "name": "python",
   "nbconvert_exporter": "python",
   "pygments_lexer": "ipython3",
   "version": "3.9.7"
  }
 },
 "nbformat": 4,
 "nbformat_minor": 5
}
