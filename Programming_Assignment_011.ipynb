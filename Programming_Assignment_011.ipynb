{
 "cells": [
  {
   "cell_type": "markdown",
   "id": "71f134c2",
   "metadata": {},
   "source": [
    "#### 1.\tWrite a Python program to find words which are greater than given length k?"
   ]
  },
  {
   "cell_type": "markdown",
   "id": "3ea8c669",
   "metadata": {},
   "source": [
    "**Ans:**"
   ]
  },
  {
   "cell_type": "code",
   "execution_count": 1,
   "id": "51b0f919",
   "metadata": {},
   "outputs": [],
   "source": [
    "def lenth_func(test_list: list, length: int):\n",
    "    extracted = []\n",
    "    for i in test_list:\n",
    "        if len(i) > length:\n",
    "            extracted.append(i)\n",
    "            \n",
    "    return extracted"
   ]
  },
  {
   "cell_type": "code",
   "execution_count": 2,
   "id": "69224d8f",
   "metadata": {},
   "outputs": [
    {
     "data": {
      "text/plain": [
       "['Data structure', 'Datascience', 'Machine learning', 'Deep learning']"
      ]
     },
     "execution_count": 2,
     "metadata": {},
     "output_type": "execute_result"
    }
   ],
   "source": [
    "test_list = [\"Data structure\",\"Datascience\", \"Machine learning\", \"Deep learning\",\"Excel\",\"Tableau\"]\n",
    "\n",
    "length = 10\n",
    "\n",
    "lenth_func(test_list, length)"
   ]
  },
  {
   "cell_type": "markdown",
   "id": "3a585e87",
   "metadata": {},
   "source": [
    "#### 2.\tWrite a Python program for removing i-th character from a string?"
   ]
  },
  {
   "cell_type": "markdown",
   "id": "9c90d8e7",
   "metadata": {},
   "source": [
    "**Ans:**"
   ]
  },
  {
   "cell_type": "code",
   "execution_count": 3,
   "id": "3b0654e3",
   "metadata": {},
   "outputs": [
    {
     "name": "stdout",
     "output_type": "stream",
     "text": [
      "Enter the string : python\n",
      "Enter the ith character : 5\n",
      "pythn\n"
     ]
    }
   ],
   "source": [
    "def removeChar():\n",
    "    input_string = input(\"Enter the string : \")\n",
    "    char =  int(input(\"Enter the ith character : \"))\n",
    "    out_string = ''\n",
    "    char = char - 1\n",
    "    for i in range(len(input_string)):\n",
    "        if i != char:\n",
    "            out_string = out_string + input_string[i]\n",
    "    print(out_string)\n",
    "    \n",
    "removeChar()            "
   ]
  },
  {
   "cell_type": "markdown",
   "id": "6ea8cb19",
   "metadata": {},
   "source": [
    "#### 3.\tWrite a Python program to split and join a string?"
   ]
  },
  {
   "cell_type": "markdown",
   "id": "a03eb127",
   "metadata": {},
   "source": [
    "**Ans:**"
   ]
  },
  {
   "cell_type": "code",
   "execution_count": 4,
   "id": "82efe4c4",
   "metadata": {},
   "outputs": [
    {
     "name": "stdout",
     "output_type": "stream",
     "text": [
      "Enter the string : python is used in data science\n",
      "splitted string = ['python', 'is', 'used', 'in', 'data', 'science']\n",
      "joined string = python is used in data science\n"
     ]
    }
   ],
   "source": [
    "input_string = str(input(\"Enter the string : \"))\n",
    "\n",
    "input_split = input_string.split(' ')\n",
    "print(f'splitted string = {input_split}')\n",
    "\n",
    "input_join = \" \".join(input_split)\n",
    "print(f'joined string = {input_join}')"
   ]
  },
  {
   "cell_type": "markdown",
   "id": "3a52ec45",
   "metadata": {},
   "source": [
    "#### 4.\tWrite a Python to check if a given string is binary string or not?"
   ]
  },
  {
   "cell_type": "markdown",
   "id": "72da2e42",
   "metadata": {},
   "source": [
    "**Ans:**"
   ]
  },
  {
   "cell_type": "code",
   "execution_count": 5,
   "id": "aabde722",
   "metadata": {},
   "outputs": [
    {
     "name": "stdout",
     "output_type": "stream",
     "text": [
      "Enter the string: 10236\n",
      "10236 is Not Binary\n"
     ]
    }
   ],
   "source": [
    "inuput_string = input(\"Enter the string: \")\n",
    "binary = ['0','1']\n",
    "\n",
    "is_binary = True\n",
    "for i in inuput_string:\n",
    "    if i not in binary:\n",
    "        is_binary = False\n",
    "    \n",
    "if is_binary:\n",
    "    print(f'{inuput_string} is Binary')\n",
    "else:\n",
    "    print(f'{inuput_string} is Not Binary')"
   ]
  },
  {
   "cell_type": "markdown",
   "id": "d6b81de0",
   "metadata": {},
   "source": [
    "#### 5.\tWrite a Python program to find uncommon words from two Strings?"
   ]
  },
  {
   "cell_type": "markdown",
   "id": "517579cb",
   "metadata": {},
   "source": [
    "**Ans:**"
   ]
  },
  {
   "cell_type": "code",
   "execution_count": 6,
   "id": "792a76b2",
   "metadata": {},
   "outputs": [],
   "source": [
    "def findUncom(string1, string2):\n",
    "    \n",
    "    string1 = string1.split(\" \")\n",
    "    string2 = string2.split(\" \")\n",
    "    uncommon = []\n",
    "    \n",
    "    for i in set(string1):\n",
    "        if i not in string2:\n",
    "            uncommon.append(i)\n",
    "        \n",
    "    for i in set(string2):\n",
    "        if i not in string2:\n",
    "            uncommon.append(i)\n",
    "            \n",
    "    return uncommon"
   ]
  },
  {
   "cell_type": "code",
   "execution_count": 5,
   "id": "de71c3ca",
   "metadata": {},
   "outputs": [
    {
     "data": {
      "text/plain": [
       "['projects/application',\n",
       " 'one',\n",
       " 'best',\n",
       " 'various',\n",
       " 'by',\n",
       " 'science',\n",
       " 'the',\n",
       " 'of',\n",
       " 'scientist',\n",
       " 'language']"
      ]
     },
     "execution_count": 5,
     "metadata": {},
     "output_type": "execute_result"
    }
   ],
   "source": [
    "string1 = \"Python is one of the best language used by data scientist for various data science projects/application\"\n",
    "string2 = \"Python is commonly used for developing websites and software, task automation, data analysis, and data visualization\"\n",
    "\n",
    "findUncom(string1, string2)"
   ]
  },
  {
   "cell_type": "markdown",
   "id": "40bced68",
   "metadata": {},
   "source": [
    "#### 6.\tWrite a Python to find all duplicate characters in string?"
   ]
  },
  {
   "cell_type": "markdown",
   "id": "3a80c33b",
   "metadata": {},
   "source": [
    "**Ans:**"
   ]
  },
  {
   "cell_type": "code",
   "execution_count": 7,
   "id": "86ad24c8",
   "metadata": {},
   "outputs": [],
   "source": [
    "def findDup(string:str):\n",
    "    duplicate = []\n",
    "    for i in string:\n",
    "        if string.count(i)> 1:\n",
    "            duplicate.append(i)\n",
    "            \n",
    "    return set(duplicate)"
   ]
  },
  {
   "cell_type": "code",
   "execution_count": 8,
   "id": "659cf79f",
   "metadata": {},
   "outputs": [
    {
     "data": {
      "text/plain": [
       "{' ',\n",
       " 'a',\n",
       " 'b',\n",
       " 'c',\n",
       " 'd',\n",
       " 'e',\n",
       " 'f',\n",
       " 'g',\n",
       " 'h',\n",
       " 'i',\n",
       " 'l',\n",
       " 'n',\n",
       " 'o',\n",
       " 'p',\n",
       " 'r',\n",
       " 's',\n",
       " 't',\n",
       " 'u',\n",
       " 'y'}"
      ]
     },
     "execution_count": 8,
     "metadata": {},
     "output_type": "execute_result"
    }
   ],
   "source": [
    "findDup(\"Python is one of the best language used by data scientist for various data science projects/application\")"
   ]
  },
  {
   "cell_type": "markdown",
   "id": "f9e906fe",
   "metadata": {},
   "source": [
    "#### 7.\tWrite a Python Program to check if a string contains any special character?"
   ]
  },
  {
   "cell_type": "markdown",
   "id": "9ad3bb42",
   "metadata": {},
   "source": [
    "**Ans:**"
   ]
  },
  {
   "cell_type": "code",
   "execution_count": 9,
   "id": "649e5ebe",
   "metadata": {},
   "outputs": [
    {
     "name": "stdout",
     "output_type": "stream",
     "text": [
      "Enter the string: #123\n",
      "There are 1 Speical Characters in #123 which are ['#']\n",
      "Enter the string: py*thon\n",
      "There are 1 Speical Characters in py*thon which are ['*']\n"
     ]
    }
   ],
   "source": [
    "def checkSpecialChar():\n",
    "    spl_chars = '[@_!#$%^&*()<>?/\\|}{~:]'\n",
    "    in_num = input('Enter the string: ')\n",
    "    count = 0\n",
    "    char_list = []\n",
    "    for ele in in_num:\n",
    "        if ele in spl_chars:\n",
    "            char_list.append(ele)\n",
    "            count = count+1\n",
    "    print(f'There are {count} Speical Characters in {in_num} which are {char_list}')\n",
    "            \n",
    "        \n",
    "checkSpecialChar()\n",
    "checkSpecialChar()"
   ]
  },
  {
   "cell_type": "code",
   "execution_count": null,
   "id": "345cfd2e",
   "metadata": {},
   "outputs": [],
   "source": []
  }
 ],
 "metadata": {
  "kernelspec": {
   "display_name": "Python 3 (ipykernel)",
   "language": "python",
   "name": "python3"
  },
  "language_info": {
   "codemirror_mode": {
    "name": "ipython",
    "version": 3
   },
   "file_extension": ".py",
   "mimetype": "text/x-python",
   "name": "python",
   "nbconvert_exporter": "python",
   "pygments_lexer": "ipython3",
   "version": "3.9.7"
  }
 },
 "nbformat": 4,
 "nbformat_minor": 5
}
