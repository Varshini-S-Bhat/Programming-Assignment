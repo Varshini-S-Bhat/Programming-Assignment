{
 "cells": [
  {
   "cell_type": "markdown",
   "id": "93989a2e",
   "metadata": {},
   "source": [
    "#### 1. Write a function that takes a list and a number as arguments. Add the number to the end of the list, then remove the first element of the list. The function should then return the updated list.\n",
    "Examples\n",
    "\n",
    "`next_in_line([5, 6, 7, 8, 9], 1) ➞ [6, 7, 8, 9, 1]`\n",
    "\n",
    "`next_in_line([7, 6, 3, 23, 17], 10) ➞ [6, 3, 23, 17, 10]`\n",
    "\n",
    "`next_in_line([1, 10, 20, 42 ], 6) ➞ [10, 20, 42, 6]`\n",
    "\n",
    "`next_in_line([], 6) ➞ \"No list has been selected\"`"
   ]
  },
  {
   "cell_type": "markdown",
   "id": "0f006dbd",
   "metadata": {},
   "source": [
    "**Ans:**"
   ]
  },
  {
   "cell_type": "code",
   "execution_count": 1,
   "id": "6cfd91fc",
   "metadata": {},
   "outputs": [],
   "source": [
    "def next_in_line(lst: list, num):\n",
    "    if len(lst) > 0:\n",
    "        lst.append(num)\n",
    "        return lst[1:]\n",
    "    else:\n",
    "        return \"'No list has been selected'\""
   ]
  },
  {
   "cell_type": "code",
   "execution_count": 2,
   "id": "20016380",
   "metadata": {},
   "outputs": [
    {
     "name": "stdout",
     "output_type": "stream",
     "text": [
      "[6, 7, 8, 9, 1]\n",
      "[6, 3, 23, 17, 10]\n",
      "[10, 20, 42, 6]\n",
      "'No list has been selected'\n"
     ]
    }
   ],
   "source": [
    "print(next_in_line([5, 6, 7, 8, 9], 1))\n",
    "print(next_in_line([7, 6, 3, 23, 17], 10))\n",
    "print(next_in_line([1, 10, 20, 42 ], 6))\n",
    "print(next_in_line([], 6))"
   ]
  },
  {
   "cell_type": "markdown",
   "id": "3a855c07",
   "metadata": {},
   "source": [
    "#### 2. Create the function that takes a list of dictionaries and returns the sum of people's budgets.\n",
    "Examples\n",
    "`get_budgets([\n",
    "  { \"name\": \"John\", \"age\": 21, \"budget\": 23000 },\n",
    "  { \"name\": \"Steve\",  \"age\": 32, \"budget\": 40000 },\n",
    "  { \"name\": \"Martin\",  \"age\": 16, \"budget\": 2700 }\n",
    "]) ➞ 65700`\n",
    "\n",
    "`get_budgets([\n",
    "  { \"name\": \"John\",  \"age\": 21, \"budget\": 29000 },\n",
    "  { \"name\": \"Steve\",  \"age\": 32, \"budget\": 32000 },\n",
    "  { \"name\": \"Martin\",  \"age\": 16, \"budget\": 1600 }\n",
    "]) ➞ 62600`\n"
   ]
  },
  {
   "cell_type": "markdown",
   "id": "a2422fe5",
   "metadata": {},
   "source": [
    "**Ans:**"
   ]
  },
  {
   "cell_type": "code",
   "execution_count": 3,
   "id": "580ed4dc",
   "metadata": {},
   "outputs": [],
   "source": [
    "def get_budgets(lst: list):\n",
    "    total = 0\n",
    "    for i in lst:\n",
    "        total += i['budget']\n",
    "    return total"
   ]
  },
  {
   "cell_type": "code",
   "execution_count": 4,
   "id": "bef94a66",
   "metadata": {},
   "outputs": [
    {
     "data": {
      "text/plain": [
       "65700"
      ]
     },
     "execution_count": 4,
     "metadata": {},
     "output_type": "execute_result"
    }
   ],
   "source": [
    "get_budgets([\n",
    "  { \"name\": \"John\", \"age\": 21, \"budget\": 23000 },\n",
    "  { \"name\": \"Steve\",  \"age\": 32, \"budget\": 40000 },\n",
    "  { \"name\": \"Martin\",  \"age\": 16, \"budget\": 2700 }\n",
    "])"
   ]
  },
  {
   "cell_type": "code",
   "execution_count": 5,
   "id": "e93bceea",
   "metadata": {},
   "outputs": [
    {
     "data": {
      "text/plain": [
       "62600"
      ]
     },
     "execution_count": 5,
     "metadata": {},
     "output_type": "execute_result"
    }
   ],
   "source": [
    "get_budgets([\n",
    "  { \"name\": \"John\",  \"age\": 21, \"budget\": 29000 },\n",
    "  { \"name\": \"Steve\",  \"age\": 32, \"budget\": 32000 },\n",
    "  { \"name\": \"Martin\",  \"age\": 16, \"budget\": 1600 }\n",
    "])"
   ]
  },
  {
   "cell_type": "markdown",
   "id": "98b35ae9",
   "metadata": {},
   "source": [
    "#### 3. Create a function that takes a string and returns a string with its letters in alphabetical order.\n",
    "Examples\n",
    "\n",
    "`alphabet_soup(\"hello\") ➞ \"ehllo\"`\n",
    "\n",
    "`alphabet_soup(\"edabit\") ➞ \"abdeit\"`\n",
    "\n",
    "`alphabet_soup(\"hacker\") ➞ \"acehkr\"`\n",
    "\n",
    "`alphabet_soup(\"geek\") ➞ \"eegk\"`\n",
    "\n",
    "`alphabet_soup(\"javascript\") ➞ \"aacijprstv\"`"
   ]
  },
  {
   "cell_type": "markdown",
   "id": "439d4b3d",
   "metadata": {},
   "source": [
    "**Ans:**"
   ]
  },
  {
   "cell_type": "code",
   "execution_count": 6,
   "id": "55b580c5",
   "metadata": {},
   "outputs": [],
   "source": [
    "def alphabet_soup(in_string):\n",
    "    out_string = ''.join(sorted(in_string))\n",
    "    print(f'{in_string} ➞ {out_string}')"
   ]
  },
  {
   "cell_type": "code",
   "execution_count": 7,
   "id": "69d09033",
   "metadata": {},
   "outputs": [
    {
     "name": "stdout",
     "output_type": "stream",
     "text": [
      "hello ➞ ehllo\n",
      "edabit ➞ abdeit\n",
      "hacker ➞ acehkr\n",
      "geek ➞ eegk\n",
      "javascript ➞ aacijprstv\n"
     ]
    }
   ],
   "source": [
    "alphabet_soup(\"hello\")\n",
    "alphabet_soup(\"edabit\")\n",
    "alphabet_soup(\"hacker\")\n",
    "alphabet_soup(\"geek\")\n",
    "alphabet_soup(\"javascript\")"
   ]
  },
  {
   "cell_type": "markdown",
   "id": "930faae1",
   "metadata": {},
   "source": [
    "#### 4. Suppose that you invest $10,000 for 10 years at an interest rate of 6% compounded monthly. What will be the value of your investment at the end of the 10 year period?\n",
    "Create a function that accepts the principal p, the term in years t, the interest rate r, and the number of compounding periods per year n. The function returns the value at the end of term rounded to the nearest cent.\n",
    "\n",
    "**For the example above:**\n",
    "\n",
    "`compound_interest(10000, 10, 0.06, 12) ➞ 18193.97`\n",
    "Note that the interest rate is given as a decimal and n=12 because with monthly compounding there are 12 periods per year. Compounding can also be done annually, quarterly, weekly, or daily.\n",
    "\n",
    "Examples\n",
    "\n",
    "`compound_interest(100, 1, 0.05, 1) ➞ 105.0`\n",
    "\n",
    "`compound_interest(3500, 15, 0.1, 4) ➞ 15399.26`\n",
    "\n",
    "`compound_interest(100000, 20, 0.15, 365) ➞ 2007316.26`\n",
    "\n"
   ]
  },
  {
   "cell_type": "markdown",
   "id": "480005f9",
   "metadata": {},
   "source": [
    "**Ans:**"
   ]
  },
  {
   "cell_type": "code",
   "execution_count": 8,
   "id": "9feaafc7",
   "metadata": {},
   "outputs": [],
   "source": [
    "def compound_interest(principal,years,roi,cp):\n",
    "    ci = principal*(1+(roi/cp))**(cp*years)\n",
    "    print(f'Output ➞ {ci:.2f}')"
   ]
  },
  {
   "cell_type": "code",
   "execution_count": 9,
   "id": "f22f3252",
   "metadata": {},
   "outputs": [
    {
     "name": "stdout",
     "output_type": "stream",
     "text": [
      "Output ➞ 105.00\n",
      "Output ➞ 15399.26\n",
      "Output ➞ 2007316.26\n"
     ]
    }
   ],
   "source": [
    "compound_interest(100, 1, 0.05, 1)\n",
    "compound_interest(3500, 15, 0.1, 4)\n",
    "compound_interest(100000, 20, 0.15, 365)"
   ]
  },
  {
   "cell_type": "markdown",
   "id": "6c0cb9d5",
   "metadata": {},
   "source": [
    "#### 5. Write a function that takes a list of elements and returns only the integers.\n",
    "Examples\n",
    "\n",
    "`return_only_integer([9, 2, \"space\", \"car\", \"lion\", 16]) ➞ [9, 2, 16]`\n",
    "\n",
    "`return_only_integer([\"hello\", 81, \"basketball\", 123, \"fox\"]) ➞ [81, 123]`\n",
    "\n",
    "`return_only_integer([10, \"121\", 56, 20, \"car\", 3, \"lion\"]) ➞ [10, 56, 20, 3]`\n",
    "\n",
    "`return_only_integer([\"String\",  True,  3.3,  1]) ➞ [1]`\n"
   ]
  },
  {
   "cell_type": "markdown",
   "id": "f510e3c5",
   "metadata": {},
   "source": [
    "**Ans:**"
   ]
  },
  {
   "cell_type": "code",
   "execution_count": 10,
   "id": "9d5c04f2",
   "metadata": {},
   "outputs": [],
   "source": [
    "def return_only_integer(in_list):\n",
    "    out_list = []\n",
    "    for ele in in_list:\n",
    "        if type(ele) == int:\n",
    "            out_list.append(ele)\n",
    "    print(f'{in_list} ➞ {out_list}')"
   ]
  },
  {
   "cell_type": "code",
   "execution_count": 11,
   "id": "23f3efd5",
   "metadata": {},
   "outputs": [
    {
     "name": "stdout",
     "output_type": "stream",
     "text": [
      "[9, 2, 'space', 'car', 'lion', 16] ➞ [9, 2, 16]\n",
      "['hello', 81, 'basketball', 123, 'fox'] ➞ [81, 123]\n",
      "[10, '121', 56, 20, 'car', 3, 'lion'] ➞ [10, 56, 20, 3]\n",
      "['String', True, 3.3, 1] ➞ [1]\n"
     ]
    }
   ],
   "source": [
    "return_only_integer([9, 2, \"space\", \"car\", \"lion\", 16])\n",
    "return_only_integer([\"hello\", 81, \"basketball\", 123, \"fox\"])\n",
    "return_only_integer([10, \"121\", 56, 20, \"car\", 3, \"lion\"]) \n",
    "return_only_integer([\"String\", True, 3.3, 1])"
   ]
  },
  {
   "cell_type": "code",
   "execution_count": null,
   "id": "132a537a",
   "metadata": {},
   "outputs": [],
   "source": []
  }
 ],
 "metadata": {
  "kernelspec": {
   "display_name": "Python 3 (ipykernel)",
   "language": "python",
   "name": "python3"
  },
  "language_info": {
   "codemirror_mode": {
    "name": "ipython",
    "version": 3
   },
   "file_extension": ".py",
   "mimetype": "text/x-python",
   "name": "python",
   "nbconvert_exporter": "python",
   "pygments_lexer": "ipython3",
   "version": "3.9.7"
  }
 },
 "nbformat": 4,
 "nbformat_minor": 5
}
