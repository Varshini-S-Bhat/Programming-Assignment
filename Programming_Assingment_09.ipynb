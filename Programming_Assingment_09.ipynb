{
 "cells": [
  {
   "cell_type": "markdown",
   "id": "543ff81c",
   "metadata": {},
   "source": [
    "#### 1.\tWrite a Python program to check if the given number is a Disarium Number?"
   ]
  },
  {
   "cell_type": "markdown",
   "id": "9d9a7cdf",
   "metadata": {},
   "source": [
    "**Ans:**"
   ]
  },
  {
   "cell_type": "code",
   "execution_count": 1,
   "id": "cdcb2051",
   "metadata": {},
   "outputs": [],
   "source": [
    "def disarium(num):\n",
    "    \n",
    "    try:\n",
    "        if type(num) != int:\n",
    "            raise Exception(\"Not an integer\")\n",
    "            \n",
    "        num = str(num)\n",
    "        total = 0\n",
    "        for i in range(0, len(num)):\n",
    "            n = int(num[i])\n",
    "            n = n**(i+1)\n",
    "            total = total + n\n",
    "\n",
    "        if total == int(num):\n",
    "            return True\n",
    "        else:\n",
    "            return False\n",
    "\n",
    "    except Exception as e:\n",
    "        print(e)"
   ]
  },
  {
   "cell_type": "code",
   "execution_count": 2,
   "id": "7188a9a6",
   "metadata": {},
   "outputs": [
    {
     "data": {
      "text/plain": [
       "True"
      ]
     },
     "execution_count": 2,
     "metadata": {},
     "output_type": "execute_result"
    }
   ],
   "source": [
    "disarium(135)"
   ]
  },
  {
   "cell_type": "code",
   "execution_count": 3,
   "id": "f9f7a599",
   "metadata": {},
   "outputs": [
    {
     "data": {
      "text/plain": [
       "False"
      ]
     },
     "execution_count": 3,
     "metadata": {},
     "output_type": "execute_result"
    }
   ],
   "source": [
    "disarium(145)"
   ]
  },
  {
   "cell_type": "markdown",
   "id": "e9d340f8",
   "metadata": {},
   "source": [
    "#### 2.\tWrite a Python program to print all disarium numbers between 1 to 100?"
   ]
  },
  {
   "cell_type": "markdown",
   "id": "0bd7d736",
   "metadata": {},
   "source": [
    "**Ans:**"
   ]
  },
  {
   "cell_type": "code",
   "execution_count": 4,
   "id": "ae228c52",
   "metadata": {},
   "outputs": [
    {
     "name": "stdout",
     "output_type": "stream",
     "text": [
      "1 2 3 4 5 6 7 8 9 89 "
     ]
    }
   ],
   "source": [
    "for i in range(1, 101):\n",
    "    if disarium(i) == True:\n",
    "        print(i, end = ' ')"
   ]
  },
  {
   "cell_type": "markdown",
   "id": "28884524",
   "metadata": {},
   "source": [
    "#### 3.\tWrite a Python program to check if the given number is Happy Number?"
   ]
  },
  {
   "cell_type": "markdown",
   "id": "1813c885",
   "metadata": {},
   "source": [
    "**Ans:**"
   ]
  },
  {
   "cell_type": "code",
   "execution_count": 5,
   "id": "ef5571a5",
   "metadata": {},
   "outputs": [
    {
     "name": "stdout",
     "output_type": "stream",
     "text": [
      "Enter the number :77\n",
      "77  Is a Unhappy Number\n"
     ]
    }
   ],
   "source": [
    "def Happy(num):\n",
    "    sum = 0\n",
    "    while(num>0):\n",
    "        rem = num%10\n",
    "        sum= sum + rem**2\n",
    "        num = num//10\n",
    "    return sum\n",
    "\n",
    "num = int(input(\"Enter the number :\"))\n",
    "result = num\n",
    "\n",
    "\n",
    "while (result != 1 and result != 4):\n",
    "    result = Happy(result)\n",
    "\n",
    "if result == 1:\n",
    "    print(num,\"Is a Happy Number\")\n",
    "else:\n",
    "    print(num,\" Is a Unhappy Number\")"
   ]
  },
  {
   "cell_type": "markdown",
   "id": "19d6e82c",
   "metadata": {},
   "source": [
    "#### 4.\tWrite a Python program to print all happy numbers between 1 and 100?"
   ]
  },
  {
   "cell_type": "markdown",
   "id": "77037046",
   "metadata": {},
   "source": [
    "**Ans:**"
   ]
  },
  {
   "cell_type": "code",
   "execution_count": 6,
   "id": "237b8a4b",
   "metadata": {},
   "outputs": [
    {
     "name": "stdout",
     "output_type": "stream",
     "text": [
      "1 7 10 13 19 23 28 31 32 44 49 68 70 79 82 86 91 94 97 100 "
     ]
    }
   ],
   "source": [
    "def Happy(num):\n",
    "    sum = 0\n",
    "    while(num>0):\n",
    "        rem = num%10\n",
    "        sum= sum + rem**2\n",
    "        num = num//10\n",
    "    return sum\n",
    "\n",
    "for i in range(1,101):\n",
    "    result = i\n",
    "\n",
    "\n",
    "    while (result != 1 and result != 4):\n",
    "        result = Happy(result)\n",
    "\n",
    "    if result == 1:\n",
    "        print(i,end =' ')"
   ]
  },
  {
   "cell_type": "markdown",
   "id": "ccd6ca5b",
   "metadata": {},
   "source": [
    "#### 5.\tWrite a Python program to determine whether the given number is a Harshad Number?"
   ]
  },
  {
   "cell_type": "markdown",
   "id": "ac025ee6",
   "metadata": {},
   "source": [
    "**Ans:**"
   ]
  },
  {
   "cell_type": "code",
   "execution_count": 7,
   "id": "0e326d6c",
   "metadata": {},
   "outputs": [
    {
     "name": "stdout",
     "output_type": "stream",
     "text": [
      "Enter the number :45\n",
      "45 is a harshad number\n"
     ]
    }
   ],
   "source": [
    "num = int(input(\"Enter the number :\"))\n",
    "rem = sum = 0;  \n",
    "   \n",
    "\n",
    "n = num;  \n",
    "   \n",
    "\n",
    "while(num > 0):  \n",
    "    rem = num%10;  \n",
    "    sum = sum + rem;  \n",
    "    num = num//10;  \n",
    " \n",
    "if(n%sum == 0):  \n",
    "    print(str(n) + \" is a harshad number\");  \n",
    "else:  \n",
    "    print(str(n) + \" is not a harshad number\");"
   ]
  },
  {
   "cell_type": "markdown",
   "id": "6c2d7d10",
   "metadata": {},
   "source": [
    "#### 6.\tWrite a Python program to print all pronic numbers between 1 and 100?"
   ]
  },
  {
   "cell_type": "markdown",
   "id": "407eb571",
   "metadata": {},
   "source": [
    "**Ans:**"
   ]
  },
  {
   "cell_type": "code",
   "execution_count": 8,
   "id": "fac64136",
   "metadata": {},
   "outputs": [
    {
     "name": "stdout",
     "output_type": "stream",
     "text": [
      "0 2 6 12 20 30 42 56 72 90 "
     ]
    }
   ],
   "source": [
    "i = 0\n",
    "while True:\n",
    "    pronicNum = i*(i+1)\n",
    "    i = i + 1\n",
    "    if pronicNum > 100:\n",
    "        break\n",
    "    print(pronicNum, end = ' ')"
   ]
  },
  {
   "cell_type": "code",
   "execution_count": null,
   "id": "cadb430c",
   "metadata": {},
   "outputs": [],
   "source": []
  }
 ],
 "metadata": {
  "kernelspec": {
   "display_name": "Python 3 (ipykernel)",
   "language": "python",
   "name": "python3"
  },
  "language_info": {
   "codemirror_mode": {
    "name": "ipython",
    "version": 3
   },
   "file_extension": ".py",
   "mimetype": "text/x-python",
   "name": "python",
   "nbconvert_exporter": "python",
   "pygments_lexer": "ipython3",
   "version": "3.9.7"
  }
 },
 "nbformat": 4,
 "nbformat_minor": 5
}
