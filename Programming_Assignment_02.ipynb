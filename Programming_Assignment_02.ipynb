{
 "cells": [
  {
   "cell_type": "markdown",
   "id": "04d80889",
   "metadata": {},
   "source": [
    "#### 1.\tWrite a Python program to convert kilometers to miles?"
   ]
  },
  {
   "cell_type": "markdown",
   "id": "0ffc8ca9",
   "metadata": {},
   "source": [
    "**Ans:**"
   ]
  },
  {
   "cell_type": "code",
   "execution_count": 1,
   "id": "e400666a",
   "metadata": {},
   "outputs": [
    {
     "name": "stdout",
     "output_type": "stream",
     "text": [
      "5 Km to mile is  3.10685595 miles\n"
     ]
    }
   ],
   "source": [
    "def km_to_mile(a):\n",
    "    print( a,'Km to mile is ',a*0.62137119,'miles')\n",
    "km_to_mile(5)"
   ]
  },
  {
   "cell_type": "markdown",
   "id": "4f3fdcb2",
   "metadata": {},
   "source": [
    "#### 2.\tWrite a Python program to convert Celsius to Fahrenheit?"
   ]
  },
  {
   "cell_type": "markdown",
   "id": "d8006b0e",
   "metadata": {},
   "source": [
    "**Ans:**"
   ]
  },
  {
   "cell_type": "code",
   "execution_count": 2,
   "id": "9135246f",
   "metadata": {},
   "outputs": [
    {
     "name": "stdout",
     "output_type": "stream",
     "text": [
      "25 Celsius is  77.0 Fahrenheit\n"
     ]
    }
   ],
   "source": [
    "def cel_fahern(c):\n",
    "    print (c,'Celsius is ',(c * 1.8) + 32,\"Fahrenheit\" )\n",
    "cel_fahern(25)"
   ]
  },
  {
   "cell_type": "markdown",
   "id": "389725b6",
   "metadata": {},
   "source": [
    "#### 3.\tWrite a Python program to display calendar?"
   ]
  },
  {
   "cell_type": "markdown",
   "id": "0d57d220",
   "metadata": {},
   "source": [
    "**Ans:**"
   ]
  },
  {
   "cell_type": "code",
   "execution_count": 3,
   "id": "1ca22832",
   "metadata": {},
   "outputs": [
    {
     "name": "stdout",
     "output_type": "stream",
     "text": [
      "Enter calender year: 2023\n",
      "                                  2023\n",
      "\n",
      "      January                   February                   March\n",
      "Mo Tu We Th Fr Sa Su      Mo Tu We Th Fr Sa Su      Mo Tu We Th Fr Sa Su\n",
      "                   1             1  2  3  4  5             1  2  3  4  5\n",
      " 2  3  4  5  6  7  8       6  7  8  9 10 11 12       6  7  8  9 10 11 12\n",
      " 9 10 11 12 13 14 15      13 14 15 16 17 18 19      13 14 15 16 17 18 19\n",
      "16 17 18 19 20 21 22      20 21 22 23 24 25 26      20 21 22 23 24 25 26\n",
      "23 24 25 26 27 28 29      27 28                     27 28 29 30 31\n",
      "30 31\n",
      "\n",
      "       April                      May                       June\n",
      "Mo Tu We Th Fr Sa Su      Mo Tu We Th Fr Sa Su      Mo Tu We Th Fr Sa Su\n",
      "                1  2       1  2  3  4  5  6  7                1  2  3  4\n",
      " 3  4  5  6  7  8  9       8  9 10 11 12 13 14       5  6  7  8  9 10 11\n",
      "10 11 12 13 14 15 16      15 16 17 18 19 20 21      12 13 14 15 16 17 18\n",
      "17 18 19 20 21 22 23      22 23 24 25 26 27 28      19 20 21 22 23 24 25\n",
      "24 25 26 27 28 29 30      29 30 31                  26 27 28 29 30\n",
      "\n",
      "        July                     August                  September\n",
      "Mo Tu We Th Fr Sa Su      Mo Tu We Th Fr Sa Su      Mo Tu We Th Fr Sa Su\n",
      "                1  2          1  2  3  4  5  6                   1  2  3\n",
      " 3  4  5  6  7  8  9       7  8  9 10 11 12 13       4  5  6  7  8  9 10\n",
      "10 11 12 13 14 15 16      14 15 16 17 18 19 20      11 12 13 14 15 16 17\n",
      "17 18 19 20 21 22 23      21 22 23 24 25 26 27      18 19 20 21 22 23 24\n",
      "24 25 26 27 28 29 30      28 29 30 31               25 26 27 28 29 30\n",
      "31\n",
      "\n",
      "      October                   November                  December\n",
      "Mo Tu We Th Fr Sa Su      Mo Tu We Th Fr Sa Su      Mo Tu We Th Fr Sa Su\n",
      "                   1             1  2  3  4  5                   1  2  3\n",
      " 2  3  4  5  6  7  8       6  7  8  9 10 11 12       4  5  6  7  8  9 10\n",
      " 9 10 11 12 13 14 15      13 14 15 16 17 18 19      11 12 13 14 15 16 17\n",
      "16 17 18 19 20 21 22      20 21 22 23 24 25 26      18 19 20 21 22 23 24\n",
      "23 24 25 26 27 28 29      27 28 29 30               25 26 27 28 29 30 31\n",
      "30 31\n",
      "\n"
     ]
    }
   ],
   "source": [
    "import calendar\n",
    "\n",
    "def showCalender():\n",
    "    year = int(input(\"Enter calender year: \"))\n",
    "    print(calendar.calendar(year))\n",
    "    \n",
    "showCalender()"
   ]
  },
  {
   "cell_type": "markdown",
   "id": "3db8b64f",
   "metadata": {},
   "source": [
    "#### 4.\tWrite a Python program to solve quadratic equation?"
   ]
  },
  {
   "cell_type": "markdown",
   "id": "9224ed2a",
   "metadata": {},
   "source": [
    "**Ans:**"
   ]
  },
  {
   "cell_type": "code",
   "execution_count": 4,
   "id": "e02bdfba",
   "metadata": {},
   "outputs": [
    {
     "name": "stdout",
     "output_type": "stream",
     "text": [
      "Enter the coeff a: 3\n",
      "Enter the coeff b: 5\n",
      "Enter the constant c: 8\n",
      "The solution are (-0.8333333333333334-1.4043582955293932j) and (-0.8333333333333334+1.4043582955293932j)\n"
     ]
    }
   ],
   "source": [
    "# Solve the quadratic equation ax**2 + bx + c = 0\n",
    "\n",
    "# import complex math module\n",
    "import cmath\n",
    "\n",
    "a = int(input((\"Enter the coeff a: \")))\n",
    "b = int(input((\"Enter the coeff b: \")))\n",
    "c = int(input((\"Enter the constant c: \")))\n",
    "\n",
    "# calculate the discriminant\n",
    "d = (b**2) - (4*a*c)\n",
    "\n",
    "# find two solutions\n",
    "sol1 = (-b-cmath.sqrt(d))/(2*a)\n",
    "sol2 = (-b+cmath.sqrt(d))/(2*a)\n",
    "\n",
    "print('The solution are {0} and {1}'.format(sol1,sol2))"
   ]
  },
  {
   "cell_type": "markdown",
   "id": "78fc5ebc",
   "metadata": {},
   "source": [
    "#### 5.\tWrite a Python program to swap two variables without temp variable?"
   ]
  },
  {
   "cell_type": "markdown",
   "id": "292f6115",
   "metadata": {},
   "source": [
    "**Ans:**"
   ]
  },
  {
   "cell_type": "code",
   "execution_count": 5,
   "id": "34f87407",
   "metadata": {},
   "outputs": [
    {
     "name": "stdout",
     "output_type": "stream",
     "text": [
      "Enter anything20\n",
      "Enter anything35\n",
      "A value before swapping -> 20\n",
      "B value before swapping -> 35\n",
      "A value after swapping -> 35\n",
      "B value after swapping -> 20\n"
     ]
    }
   ],
   "source": [
    "A = input(\"Enter anything\")\n",
    "B = input(\"Enter anything\")\n",
    "print(r'A value before swapping ->',A)\n",
    "print(r'B value before swapping ->',B)\n",
    "A ,B = B, A\n",
    "print(r'A value after swapping ->',A)\n",
    "print(r'B value after swapping ->',B)"
   ]
  },
  {
   "cell_type": "code",
   "execution_count": null,
   "id": "a63dea3f",
   "metadata": {},
   "outputs": [],
   "source": []
  }
 ],
 "metadata": {
  "kernelspec": {
   "display_name": "Python 3 (ipykernel)",
   "language": "python",
   "name": "python3"
  },
  "language_info": {
   "codemirror_mode": {
    "name": "ipython",
    "version": 3
   },
   "file_extension": ".py",
   "mimetype": "text/x-python",
   "name": "python",
   "nbconvert_exporter": "python",
   "pygments_lexer": "ipython3",
   "version": "3.9.7"
  }
 },
 "nbformat": 4,
 "nbformat_minor": 5
}
