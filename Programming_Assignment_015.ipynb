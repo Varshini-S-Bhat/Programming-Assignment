{
 "cells": [
  {
   "cell_type": "markdown",
   "id": "6366ae45",
   "metadata": {},
   "source": [
    "#### 1. Please write a program using generator to print the numbers which can be divisible by 5 and 7 between 0 and n in comma separated form while n is input by console.\n",
    "Example:\n",
    "\n",
    "If the following n is given as input to the program:\n",
    "\n",
    "100\n",
    "\n",
    "Then, the output of the program should be:\n",
    "\n",
    "0,35,70"
   ]
  },
  {
   "cell_type": "markdown",
   "id": "1b4ac5d0",
   "metadata": {},
   "source": [
    "**Ans:**"
   ]
  },
  {
   "cell_type": "code",
   "execution_count": 1,
   "id": "955ac325",
   "metadata": {},
   "outputs": [],
   "source": [
    "def showDivisible(in_num):\n",
    "    for ele in range(0,in_num):\n",
    "        if (ele % 5 == 0) and (ele % 7 == 0):\n",
    "            yield ele"
   ]
  },
  {
   "cell_type": "code",
   "execution_count": 2,
   "id": "d378a069",
   "metadata": {},
   "outputs": [
    {
     "name": "stdout",
     "output_type": "stream",
     "text": [
      "0, 35, 70\n"
     ]
    }
   ],
   "source": [
    "print(', '.join([str(i) for i in showDivisible(100)]))"
   ]
  },
  {
   "cell_type": "markdown",
   "id": "866ffe37",
   "metadata": {},
   "source": [
    "#### 2. Please write a program using generator to print the even numbers between 0 and n in comma separated form while n is input by console.\n",
    "Example:\n",
    "\n",
    "If the following n is given as input to the program:\n",
    "\n",
    "10\n",
    "\n",
    "Then, the output of the program should be:\n",
    "\n",
    "0,2,4,6,8,10\n"
   ]
  },
  {
   "cell_type": "markdown",
   "id": "42667623",
   "metadata": {},
   "source": [
    "**Ans:**"
   ]
  },
  {
   "cell_type": "code",
   "execution_count": 3,
   "id": "6934bafd",
   "metadata": {},
   "outputs": [
    {
     "name": "stdout",
     "output_type": "stream",
     "text": [
      "0, 2, 4, 6, 8, 10\n"
     ]
    }
   ],
   "source": [
    "def getEvennumber(in_num):\n",
    "    for ele in range(in_num+1):\n",
    "        if ele%2 == 0:\n",
    "            yield ele\n",
    "            \n",
    "print(', '.join([str(i) for i in getEvennumber(10)]))"
   ]
  },
  {
   "cell_type": "markdown",
   "id": "51b8e586",
   "metadata": {},
   "source": [
    "#### 3. The Fibonacci Sequence is computed based on the following formula:\n",
    "f(n)=0 if n=0\n",
    "\n",
    "f(n)=1 if n=1\n",
    "\n",
    "f(n)=f(n-1)+f(n-2) if n>1\n",
    "\n",
    "Please write a program using list comprehension to print the Fibonacci Sequence in comma separated form with a given n input by console.\n",
    "\n",
    "Example:\n",
    "\n",
    "If the following n is given as input to the program:\n",
    "\n",
    "7\n",
    "\n",
    "Then, the output of the program should be:\n",
    "\n",
    "0,1,1,2,3,5,8,13\n"
   ]
  },
  {
   "cell_type": "markdown",
   "id": "0af6006d",
   "metadata": {},
   "source": [
    "**Ans:**"
   ]
  },
  {
   "cell_type": "code",
   "execution_count": 4,
   "id": "d2751045",
   "metadata": {},
   "outputs": [
    {
     "name": "stdout",
     "output_type": "stream",
     "text": [
      "Enter the number : 7\n",
      "[0, 1, 1, 2, 3, 5, 8, 13]\n"
     ]
    }
   ],
   "source": [
    "def fib(n):\n",
    "    if n == 0:\n",
    "        return 0\n",
    "    elif n == 1:\n",
    "        return 1\n",
    "    else:\n",
    "        return fib(n-1)+ fib(n-2)\n",
    "n = int(input(\"Enter the number : \"))    \n",
    "print([fib(i) for i  in range(n+1)])"
   ]
  },
  {
   "cell_type": "markdown",
   "id": "872a81e2",
   "metadata": {},
   "source": [
    "#### 4. Assuming that we have some email addresses in the \"username@companyname.com\" format, please write program to print the user name of a given email address. Both user names and company names are composed of letters only.\n",
    "Example:\n",
    "If the following email address is given as input to the program:\n",
    "john@google.com\n",
    "Then, the output of the program should be:\n",
    "john\n"
   ]
  },
  {
   "cell_type": "markdown",
   "id": "3d9f7b5f",
   "metadata": {},
   "source": [
    "**Ans:**"
   ]
  },
  {
   "cell_type": "code",
   "execution_count": 5,
   "id": "64121031",
   "metadata": {},
   "outputs": [],
   "source": [
    "def username(email: str):\n",
    "    return email.split('@')[0]"
   ]
  },
  {
   "cell_type": "code",
   "execution_count": 6,
   "id": "110f84b1",
   "metadata": {},
   "outputs": [
    {
     "data": {
      "text/plain": [
       "'john'"
      ]
     },
     "execution_count": 6,
     "metadata": {},
     "output_type": "execute_result"
    }
   ],
   "source": [
    "username(\"john@google.com\")"
   ]
  },
  {
   "cell_type": "markdown",
   "id": "bd8f0518",
   "metadata": {},
   "source": [
    "#### 5. Define a class named Shape and its subclass Square. The Square class has an init function which takes a length as argument. Both classes have a area function which can print the area of the shape where Shape's area is 0 by default."
   ]
  },
  {
   "cell_type": "markdown",
   "id": "9a8e21ba",
   "metadata": {},
   "source": [
    "**Ans:**"
   ]
  },
  {
   "cell_type": "code",
   "execution_count": 7,
   "id": "8e9e84ef",
   "metadata": {},
   "outputs": [
    {
     "data": {
      "text/plain": [
       "81"
      ]
     },
     "execution_count": 7,
     "metadata": {},
     "output_type": "execute_result"
    }
   ],
   "source": [
    "class Shape():\n",
    "    def area(self):\n",
    "        return 0\n",
    "    \n",
    "    \n",
    "    \n",
    "class Square(Shape):\n",
    "    def __init__(self,l):\n",
    "        self.length = l\n",
    "        \n",
    "    def area(self):\n",
    "        return self.length*self.length\n",
    "    \n",
    "\n",
    "square  = Square(9)\n",
    "\n",
    "\n",
    "square .area()\n",
    "    "
   ]
  },
  {
   "cell_type": "code",
   "execution_count": null,
   "id": "7561cc20",
   "metadata": {},
   "outputs": [],
   "source": []
  }
 ],
 "metadata": {
  "kernelspec": {
   "display_name": "Python 3 (ipykernel)",
   "language": "python",
   "name": "python3"
  },
  "language_info": {
   "codemirror_mode": {
    "name": "ipython",
    "version": 3
   },
   "file_extension": ".py",
   "mimetype": "text/x-python",
   "name": "python",
   "nbconvert_exporter": "python",
   "pygments_lexer": "ipython3",
   "version": "3.9.7"
  }
 },
 "nbformat": 4,
 "nbformat_minor": 5
}
