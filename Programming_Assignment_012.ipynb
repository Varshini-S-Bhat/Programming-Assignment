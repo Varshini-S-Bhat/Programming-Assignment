{
 "cells": [
  {
   "cell_type": "markdown",
   "id": "f82ce455",
   "metadata": {},
   "source": [
    "#### 1.\tWrite a Python program to Extract Unique values dictionary values?"
   ]
  },
  {
   "cell_type": "markdown",
   "id": "8c9df9f0",
   "metadata": {},
   "source": [
    "**Ans:**"
   ]
  },
  {
   "cell_type": "code",
   "execution_count": 1,
   "id": "e85ab951",
   "metadata": {},
   "outputs": [
    {
     "name": "stdout",
     "output_type": "stream",
     "text": [
      "dict_values(['Datascience', 'Machine Learning', 'Artificial intelligence', 'Datascience', 'Machine Learning', 'Computer vision', 'Big data', 'Datascience'])\n",
      "Unique Values: ['Artificial intelligence', 'Datascience', 'Computer vision', 'Machine Learning', 'Big data']\n"
     ]
    }
   ],
   "source": [
    "in_dict = {1:'Datascience',2:'Machine Learning',3:'Artificial intelligence',4: 'Datascience',5: 'Machine Learning',6: 'Computer vision',7: 'Big data',8: 'Datascience'}\n",
    "print(in_dict.values())\n",
    "\n",
    "print(f'Unique Values: {list(set(in_dict.values()))}')"
   ]
  },
  {
   "cell_type": "markdown",
   "id": "dfa706f9",
   "metadata": {},
   "source": [
    "#### 2.\tWrite a Python program to find the sum of all items in a dictionary?"
   ]
  },
  {
   "cell_type": "markdown",
   "id": "fc6c44ff",
   "metadata": {},
   "source": [
    "**Ans:**"
   ]
  },
  {
   "cell_type": "code",
   "execution_count": 2,
   "id": "2cc3e877",
   "metadata": {},
   "outputs": [
    {
     "name": "stdout",
     "output_type": "stream",
     "text": [
      "Sum of all values is : 1407\n"
     ]
    }
   ],
   "source": [
    "test_dict = {'k1' : 89,\n",
    "             'k2' : 111,\n",
    "             'k3' : 123,\n",
    "             'k4' : 5}\n",
    "\n",
    "sum = 0\n",
    "for i in test_dict.values():\n",
    "    sum +=sum + i\n",
    "print(\"Sum of all values is : {}\".format(sum))"
   ]
  },
  {
   "cell_type": "markdown",
   "id": "e3dac6bb",
   "metadata": {},
   "source": [
    "#### 3.\tWrite a Python program to Merging two Dictionaries?"
   ]
  },
  {
   "cell_type": "markdown",
   "id": "4bc7210d",
   "metadata": {},
   "source": [
    "**Ans:**"
   ]
  },
  {
   "cell_type": "code",
   "execution_count": 3,
   "id": "fc65842c",
   "metadata": {},
   "outputs": [
    {
     "name": "stdout",
     "output_type": "stream",
     "text": [
      "dict input_1 :  {'x': 2, 'y': 3}\n",
      "Dict input_2 :  {'y': 5, 'z': 6}\n",
      "Updated dictionary : {'x': 2, 'y': 5, 'z': 6}\n"
     ]
    }
   ],
   "source": [
    "input_1 = { 'x': 2, 'y': 3}\n",
    "input_2 = { 'y': 5, 'z': 6}\n",
    "\n",
    "out = input_1.copy()\n",
    "out.update(input_2)\n",
    "print(\"dict input_1 : \", input_1)\n",
    "print(\"Dict input_2 : \", input_2)\n",
    "\n",
    "print(f'Updated dictionary : {out}')"
   ]
  },
  {
   "cell_type": "markdown",
   "id": "a5abd227",
   "metadata": {},
   "source": [
    "#### 4.\tWrite a Python program to convert key-values list to flat dictionary?"
   ]
  },
  {
   "cell_type": "markdown",
   "id": "2bb719a7",
   "metadata": {},
   "source": [
    "**Ans:**"
   ]
  },
  {
   "cell_type": "code",
   "execution_count": 4,
   "id": "27ed06f9",
   "metadata": {},
   "outputs": [
    {
     "data": {
      "text/plain": [
       "{'A': 10,\n",
       " 'B': 20,\n",
       " 'C': 30,\n",
       " 'D': 40,\n",
       " 'E': 50,\n",
       " 'F': 60,\n",
       " 'G': 70,\n",
       " 'H': 80,\n",
       " 'I': 90,\n",
       " 'J': 100}"
      ]
     },
     "execution_count": 4,
     "metadata": {},
     "output_type": "execute_result"
    }
   ],
   "source": [
    "in_list = [('A',10),('B',20),('C',30),('D',40),('E',50),('F',60),('G',70),('H',80),('I',90),('J',100)]\n",
    "\n",
    "# Method #1\n",
    "dict(in_list)"
   ]
  },
  {
   "cell_type": "code",
   "execution_count": 5,
   "id": "900afff1",
   "metadata": {},
   "outputs": [
    {
     "name": "stdout",
     "output_type": "stream",
     "text": [
      "{'A': 10, 'B': 20, 'C': 30, 'D': 40, 'E': 50, 'F': 60, 'G': 70, 'H': 80, 'I': 90, 'J': 100}\n"
     ]
    }
   ],
   "source": [
    "# Method #2\n",
    "out_dict = {}\n",
    "for ele in in_list:\n",
    "    out_dict[ele[0]] = ele[1]\n",
    "print(out_dict)"
   ]
  },
  {
   "cell_type": "markdown",
   "id": "5b6a75ca",
   "metadata": {},
   "source": [
    "#### 5.\tWrite a Python program to insertion at the beginning in OrderedDict?"
   ]
  },
  {
   "cell_type": "markdown",
   "id": "3f3aac5b",
   "metadata": {},
   "source": [
    "**Ans:**"
   ]
  },
  {
   "cell_type": "code",
   "execution_count": 6,
   "id": "75e5dfef",
   "metadata": {
    "scrolled": true
   },
   "outputs": [
    {
     "name": "stdout",
     "output_type": "stream",
     "text": [
      "dict_one --> OrderedDict([('Apple', 'ios'), ('Microsoft', 'Windows'), ('Google', 'Android')])\n",
      "dict_one --> OrderedDict([('Apple', 'ios'), ('Microsoft', 'Windows'), ('Google', 'Android'), ('Tesla', 'SpaceX')])\n",
      "dict_one --> OrderedDict([('Tesla', 'SpaceX'), ('Apple', 'ios'), ('Microsoft', 'Windows'), ('Google', 'Android')])\n"
     ]
    }
   ],
   "source": [
    "from collections import OrderedDict\n",
    "dict_one = OrderedDict({'Apple':'ios','Microsoft':'Windows','Google':'Android'})\n",
    "print('dict_one -->',dict_one)\n",
    "\n",
    "dict_two = {'Tesla':'SpaceX'}\n",
    "dict_one.update(dict_two)\n",
    "print('dict_one -->',dict_one)\n",
    "dict_one.move_to_end('Tesla', last = False)\n",
    "print('dict_one -->',dict_one)"
   ]
  },
  {
   "cell_type": "markdown",
   "id": "cda90e79",
   "metadata": {},
   "source": [
    "#### 6.\tWrite a Python program to check order of character in string using OrderedDict()?"
   ]
  },
  {
   "cell_type": "markdown",
   "id": "2d4e3273",
   "metadata": {},
   "source": [
    "**Ans:**"
   ]
  },
  {
   "cell_type": "code",
   "execution_count": 7,
   "id": "02ad24a5",
   "metadata": {},
   "outputs": [],
   "source": [
    "from collections import OrderedDict\n",
    "\n",
    "def check_order(my_input, my_pattern):\n",
    "    my_dict = OrderedDict.fromkeys(my_input)\n",
    "    pattern_length = 0\n",
    "    for key,values in my_dict.items():\n",
    "        if (key == my_pattern[pattern_length]):\n",
    "            pattern_length = pattern_length + 1\n",
    "        \n",
    "        if (pattern_length == len(my_pattern)):\n",
    "            return 'The order of pattern is correct'\n",
    "        \n",
    "    return 'The order of pattern is incorrect'"
   ]
  },
  {
   "cell_type": "code",
   "execution_count": 8,
   "id": "138ac54a",
   "metadata": {},
   "outputs": [
    {
     "name": "stdout",
     "output_type": "stream",
     "text": [
      "enter string : python\n",
      "Enter Pattern : on\n",
      "The order of pattern is correct\n"
     ]
    }
   ],
   "source": [
    "my_input = input(\"enter string : \")\n",
    "input_pattern = input(\"Enter Pattern : \")\n",
    "print(check_order(my_input,input_pattern))"
   ]
  },
  {
   "cell_type": "code",
   "execution_count": 9,
   "id": "dcd60b66",
   "metadata": {},
   "outputs": [
    {
     "name": "stdout",
     "output_type": "stream",
     "text": [
      "enter string : python\n",
      "Enter Pattern : no\n",
      "The order of pattern is incorrect\n"
     ]
    }
   ],
   "source": [
    "my_input = input(\"enter string : \")\n",
    "input_pattern = input(\"Enter Pattern : \")\n",
    "print(check_order(my_input,input_pattern))"
   ]
  },
  {
   "cell_type": "markdown",
   "id": "880e88e6",
   "metadata": {},
   "source": [
    "#### 7.\tWrite a Python program to sort Python Dictionaries by Key or Value?"
   ]
  },
  {
   "cell_type": "markdown",
   "id": "a56a3a16",
   "metadata": {},
   "source": [
    "**Ans:**"
   ]
  },
  {
   "cell_type": "code",
   "execution_count": 10,
   "id": "e1b03ba2",
   "metadata": {},
   "outputs": [],
   "source": [
    "d_items = {'Apple':'ios','Microsoft':'Windows','Google':'Android'}\n",
    "\n",
    "def sort_dict1(e,sort_type):\n",
    "    if sort_type == 'key':\n",
    "        print(dict(sorted(e.items(),key = lambda x:x[0],reverse = False)))\n",
    "    else:\n",
    "        print(dict(sorted(e.items(),key =lambda x:x[1],reverse = False)))"
   ]
  },
  {
   "cell_type": "code",
   "execution_count": 11,
   "id": "a77983a8",
   "metadata": {},
   "outputs": [
    {
     "name": "stdout",
     "output_type": "stream",
     "text": [
      "{'Apple': 'ios', 'Google': 'Android', 'Microsoft': 'Windows'}\n",
      "{'Google': 'Android', 'Microsoft': 'Windows', 'Apple': 'ios'}\n"
     ]
    }
   ],
   "source": [
    "sort_dict1(d_items,'key')        \n",
    "sort_dict1(d_items,'value')"
   ]
  },
  {
   "cell_type": "code",
   "execution_count": null,
   "id": "78c48d2d",
   "metadata": {},
   "outputs": [],
   "source": []
  }
 ],
 "metadata": {
  "kernelspec": {
   "display_name": "Python 3 (ipykernel)",
   "language": "python",
   "name": "python3"
  },
  "language_info": {
   "codemirror_mode": {
    "name": "ipython",
    "version": 3
   },
   "file_extension": ".py",
   "mimetype": "text/x-python",
   "name": "python",
   "nbconvert_exporter": "python",
   "pygments_lexer": "ipython3",
   "version": "3.9.7"
  }
 },
 "nbformat": 4,
 "nbformat_minor": 5
}
