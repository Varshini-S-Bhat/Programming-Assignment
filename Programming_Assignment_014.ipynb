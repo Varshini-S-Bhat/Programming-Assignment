{
 "cells": [
  {
   "cell_type": "markdown",
   "id": "7acceba2",
   "metadata": {},
   "source": [
    "#### 1. Define a class with a generator which can iterate the numbers, which are divisible by 7, between a given range 0 and n."
   ]
  },
  {
   "cell_type": "markdown",
   "id": "6b9d349b",
   "metadata": {},
   "source": [
    "**Ans:**"
   ]
  },
  {
   "cell_type": "code",
   "execution_count": 1,
   "id": "bec3d9d0",
   "metadata": {},
   "outputs": [
    {
     "name": "stdout",
     "output_type": "stream",
     "text": [
      "[0, 7, 14, 21, 28, 35, 42, 49, 56, 63, 70, 77, 84, 91, 98]\n"
     ]
    }
   ],
   "source": [
    "def gen_7(n):\n",
    "    for i in range(n+1):\n",
    "        if i%7 == 0:\n",
    "            yield i\n",
    "            \n",
    "print([i for i in gen_7(100)])"
   ]
  },
  {
   "cell_type": "markdown",
   "id": "1a8ca25a",
   "metadata": {},
   "source": [
    "#### 2. Write a program to compute the frequency of the words from the input. The output should output after sorting the key alphanumerically. \n",
    "\n",
    "Suppose the following input is supplied to the program:\n",
    "\n",
    "New to Python or choosing between Python 2 and Python 3? Read Python 2 or Python 3.\n",
    "\n",
    "Then, the output should be:\n",
    "\n",
    "2:2\n",
    "\n",
    "3.:1\n",
    "\n",
    "3?:1\n",
    "\n",
    "New:1\n",
    "\n",
    "Python:5\n",
    "\n",
    "Read:1\n",
    "\n",
    "and:1\n",
    "\n",
    "between:1\n",
    "\n",
    "choosing:1\n",
    "\n",
    "or:2\n",
    "\n",
    "to:1\n",
    "\n"
   ]
  },
  {
   "cell_type": "markdown",
   "id": "8baa9fde",
   "metadata": {},
   "source": [
    "**Ans:**"
   ]
  },
  {
   "cell_type": "code",
   "execution_count": 2,
   "id": "88f9576e",
   "metadata": {},
   "outputs": [
    {
     "name": "stdout",
     "output_type": "stream",
     "text": [
      "Enter the Input string : New to Python or choosing between Python 2 and Python 3? Read Python 2 or Python 3.\n",
      "{'2': 2, '3.': 1, '3?': 1, 'New': 1, 'Python': 5, 'Read': 1, 'and': 1, 'between': 1, 'choosing': 1, 'or': 2, 'to': 1}\n"
     ]
    }
   ],
   "source": [
    "def checkFreq():\n",
    "    in_string = input(\"Enter the Input string : \")\n",
    "    frequency = {}\n",
    "    for i in sorted(in_string.split(\" \")):\n",
    "        if i in frequency:\n",
    "            frequency[i] = frequency[i] +1\n",
    "        else:\n",
    "            frequency[i] = 1\n",
    "    print(frequency)\n",
    "    \n",
    "checkFreq()"
   ]
  },
  {
   "cell_type": "markdown",
   "id": "4ffb158c",
   "metadata": {},
   "source": [
    "#### 3. Define a class Person and its two child classes: Male and Female. All classes have a method \"getGender\" which can print \"Male\" for Male class and \"Female\" for Female class."
   ]
  },
  {
   "cell_type": "markdown",
   "id": "f0a450c0",
   "metadata": {},
   "source": [
    "**Ans:**"
   ]
  },
  {
   "cell_type": "code",
   "execution_count": 3,
   "id": "167c392e",
   "metadata": {},
   "outputs": [
    {
     "name": "stdout",
     "output_type": "stream",
     "text": [
      "Male\n",
      "Female\n"
     ]
    }
   ],
   "source": [
    "class Person:\n",
    "    def getGender(self):\n",
    "        pass\n",
    "    \n",
    "class Male(Person):\n",
    "    def getGender():\n",
    "        print(\"Male\")\n",
    "        \n",
    "class Female(Person):\n",
    "    def getGender():\n",
    "        print(\"Female\")\n",
    "        \n",
    "        \n",
    "    \n",
    "Male.getGender()\n",
    "Female.getGender()\n",
    "    "
   ]
  },
  {
   "cell_type": "markdown",
   "id": "1d51e2b5",
   "metadata": {},
   "source": [
    "#### 4. Please write a program to generate all sentences where subject is in [\"I\", \"You\"] and verb is in [\"Play\", \"Love\"] and the object is in [\"Hockey\",\"Football\"]."
   ]
  },
  {
   "cell_type": "markdown",
   "id": "09ba13f7",
   "metadata": {},
   "source": [
    "**Ans:**"
   ]
  },
  {
   "cell_type": "code",
   "execution_count": 4,
   "id": "db8e403b",
   "metadata": {},
   "outputs": [
    {
     "name": "stdout",
     "output_type": "stream",
     "text": [
      "I Play Hockey\n",
      "I Play Football\n",
      "I Love Hockey\n",
      "I Love Football\n",
      "You Play Hockey\n",
      "You Play Football\n",
      "You Love Hockey\n",
      "You Love Football\n"
     ]
    }
   ],
   "source": [
    "subject=[\"I\", \"You\"]\n",
    "verb=[\"Play\", \"Love\"]\n",
    "obj=[\"Hockey\",\"Football\"]\n",
    "\n",
    "\n",
    "str_list = [(sub+\" \"+ vb + \" \" + ob) for sub in subject for vb in verb for ob in obj]\n",
    "for sentence in str_list:\n",
    "    print(sentence)"
   ]
  },
  {
   "cell_type": "markdown",
   "id": "5637c744",
   "metadata": {},
   "source": [
    "#### 5. Please write a program to compress and decompress the string \"hello world!hello world!hello world!hello world!\"."
   ]
  },
  {
   "cell_type": "markdown",
   "id": "df6f173a",
   "metadata": {},
   "source": [
    "**Ans:**"
   ]
  },
  {
   "cell_type": "code",
   "execution_count": 5,
   "id": "56078d76",
   "metadata": {},
   "outputs": [
    {
     "name": "stdout",
     "output_type": "stream",
     "text": [
      "Compressed string is : b'x\\x9c\\xcbH\\xcd\\xc9\\xc9W(\\xcf/\\xcaIQ\\xcc \\x82\\r\\x00\\xbd[\\x11\\xf5'\n",
      "Decompressed string is : b'hello world!hello world!hello world!hello world!'\n"
     ]
    }
   ],
   "source": [
    "import zlib\n",
    "\n",
    "string = 'hello world!hello world!hello world!hello world!'\n",
    "\n",
    "compress_string = zlib.compress(bytes(string,'utf-8'))\n",
    "\n",
    "print(f'Compressed string is : {compress_string}')\n",
    "print(f'Decompressed string is : {zlib.decompress(compress_string)}')"
   ]
  },
  {
   "cell_type": "markdown",
   "id": "47efb098",
   "metadata": {},
   "source": [
    "#### 6. Please write a binary search function which searches an item in a sorted list. The function should return the index of element to be searched in the list."
   ]
  },
  {
   "cell_type": "markdown",
   "id": "255c8910",
   "metadata": {},
   "source": [
    "**Ans:**"
   ]
  },
  {
   "cell_type": "code",
   "execution_count": 6,
   "id": "7a390953",
   "metadata": {},
   "outputs": [
    {
     "name": "stdout",
     "output_type": "stream",
     "text": [
      "7\n",
      "Input Element not in the list\n"
     ]
    }
   ],
   "source": [
    "sorted_list = [1,2,3,4,5,6,7,8,9,10]\n",
    "def binary_search(in_list,in_num):\n",
    "    low = 0\n",
    "    high = len(in_list)-1\n",
    "    while low <= high:\n",
    "        mid = high+low//2\n",
    "        if in_list[mid] < in_num:\n",
    "            low = mid+1\n",
    "        elif in_list[mid] > in_num:\n",
    "            high = mid-1\n",
    "        else:\n",
    "            return mid\n",
    "    else:\n",
    "        return 'Input Element not in the list'\n",
    "    \n",
    "print(binary_search(sorted_list,8))\n",
    "print(binary_search(sorted_list,100))"
   ]
  },
  {
   "cell_type": "code",
   "execution_count": null,
   "id": "c141c884",
   "metadata": {},
   "outputs": [],
   "source": []
  }
 ],
 "metadata": {
  "kernelspec": {
   "display_name": "Python 3 (ipykernel)",
   "language": "python",
   "name": "python3"
  },
  "language_info": {
   "codemirror_mode": {
    "name": "ipython",
    "version": 3
   },
   "file_extension": ".py",
   "mimetype": "text/x-python",
   "name": "python",
   "nbconvert_exporter": "python",
   "pygments_lexer": "ipython3",
   "version": "3.9.7"
  }
 },
 "nbformat": 4,
 "nbformat_minor": 5
}
